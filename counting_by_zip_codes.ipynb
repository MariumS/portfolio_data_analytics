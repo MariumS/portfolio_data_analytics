{
 "cells": [
  {
   "cell_type": "code",
   "execution_count": 1,
   "metadata": {
    "collapsed": false
   },
   "outputs": [
    {
     "name": "stdout",
     "output_type": "stream",
     "text": [
      "Populating the interactive namespace from numpy and matplotlib\n"
     ]
    }
   ],
   "source": [
    "#general use imports\n",
    "%pylab inline\n",
    "import numpy as np\n",
    "import pandas as pd\n",
    "import matplotlib.pyplot as plt\n"
   ]
  },
  {
   "cell_type": "code",
   "execution_count": 2,
   "metadata": {
    "collapsed": false
   },
   "outputs": [
    {
     "name": "stderr",
     "output_type": "stream",
     "text": [
      "/Users/mariumsultan/anaconda/lib/python2.7/site-packages/IPython/core/interactiveshell.py:2723: DtypeWarning: Columns (5,8) have mixed types. Specify dtype option on import or set low_memory=False.\n",
      "  interactivity=interactivity, compiler=compiler, result=result)\n"
     ]
    }
   ],
   "source": [
    "#load pluto zoned zip csv to dataframe\n",
    "pz = pd.read_csv('pluto_zoned.csv')"
   ]
  },
  {
   "cell_type": "code",
   "execution_count": 3,
   "metadata": {
    "collapsed": false
   },
   "outputs": [
    {
     "data": {
      "text/plain": [
       "array([2011, 2013, 2012, 2015, 2014, 2017, 2016])"
      ]
     },
     "execution_count": 3,
     "metadata": {},
     "output_type": "execute_result"
    }
   ],
   "source": [
    "pz.year.unique()"
   ]
  },
  {
   "cell_type": "code",
   "execution_count": 4,
   "metadata": {
    "collapsed": false
   },
   "outputs": [
    {
     "data": {
      "text/plain": [
       "(5960749, 18)"
      ]
     },
     "execution_count": 4,
     "metadata": {},
     "output_type": "execute_result"
    }
   ],
   "source": [
    "#check shape of the dataframe\n",
    "pz.shape"
   ]
  },
  {
   "cell_type": "code",
   "execution_count": 5,
   "metadata": {
    "collapsed": false
   },
   "outputs": [
    {
     "data": {
      "text/plain": [
       "(415,)"
      ]
     },
     "execution_count": 5,
     "metadata": {},
     "output_type": "execute_result"
    }
   ],
   "source": [
    "pzzip = pz.ZipCode.unique()\n",
    "pzzip.shape"
   ]
  },
  {
   "cell_type": "code",
   "execution_count": 6,
   "metadata": {
    "collapsed": false
   },
   "outputs": [
    {
     "data": {
      "text/plain": [
       "Unnamed: 0                   int64\n",
       "Unnamed: 0.1                 int64\n",
       "Borough                     object\n",
       "CD                         float64\n",
       "CT2010                     float64\n",
       "ZipCode                     object\n",
       "ZoneDist1                   object\n",
       "BldgClass                   object\n",
       "LandUse                     object\n",
       "AssessTot                  float64\n",
       "year                         int64\n",
       "Commercial_Zone              int64\n",
       "Manufacturing_Zone           int64\n",
       "Residential_Zone             int64\n",
       "Hotel_Building               int64\n",
       "School_Building              int64\n",
       "Library_Building             int64\n",
       "ShoppingCenter_Building      int64\n",
       "dtype: object"
      ]
     },
     "execution_count": 6,
     "metadata": {},
     "output_type": "execute_result"
    }
   ],
   "source": [
    "pz.dtypes"
   ]
  },
  {
   "cell_type": "code",
   "execution_count": 7,
   "metadata": {
    "collapsed": true
   },
   "outputs": [],
   "source": [
    "pz['ZipCode'] = pd.to_numeric(pz['ZipCode'], errors='coerce')\n"
   ]
  },
  {
   "cell_type": "code",
   "execution_count": 8,
   "metadata": {
    "collapsed": false
   },
   "outputs": [
    {
     "data": {
      "text/html": [
       "<div>\n",
       "<table border=\"1\" class=\"dataframe\">\n",
       "  <thead>\n",
       "    <tr style=\"text-align: right;\">\n",
       "      <th></th>\n",
       "      <th>Unnamed: 0</th>\n",
       "      <th>Unnamed: 0.1</th>\n",
       "      <th>Borough</th>\n",
       "      <th>CD</th>\n",
       "      <th>CT2010</th>\n",
       "      <th>ZipCode</th>\n",
       "      <th>ZoneDist1</th>\n",
       "      <th>BldgClass</th>\n",
       "      <th>LandUse</th>\n",
       "      <th>AssessTot</th>\n",
       "      <th>year</th>\n",
       "      <th>Commercial_Zone</th>\n",
       "      <th>Manufacturing_Zone</th>\n",
       "      <th>Residential_Zone</th>\n",
       "      <th>Hotel_Building</th>\n",
       "      <th>School_Building</th>\n",
       "      <th>Library_Building</th>\n",
       "      <th>ShoppingCenter_Building</th>\n",
       "    </tr>\n",
       "  </thead>\n",
       "  <tbody>\n",
       "    <tr>\n",
       "      <th>0</th>\n",
       "      <td>0</td>\n",
       "      <td>1</td>\n",
       "      <td>BK</td>\n",
       "      <td>302.0</td>\n",
       "      <td>21.0</td>\n",
       "      <td>11201.0</td>\n",
       "      <td>M3-1</td>\n",
       "      <td>G6</td>\n",
       "      <td>10</td>\n",
       "      <td>1070550.0</td>\n",
       "      <td>2011</td>\n",
       "      <td>0</td>\n",
       "      <td>1</td>\n",
       "      <td>0</td>\n",
       "      <td>0</td>\n",
       "      <td>0</td>\n",
       "      <td>0</td>\n",
       "      <td>0</td>\n",
       "    </tr>\n",
       "    <tr>\n",
       "      <th>1</th>\n",
       "      <td>1</td>\n",
       "      <td>2</td>\n",
       "      <td>BK</td>\n",
       "      <td>302.0</td>\n",
       "      <td>21.0</td>\n",
       "      <td>11201.0</td>\n",
       "      <td>M1-4/R8A</td>\n",
       "      <td>E9</td>\n",
       "      <td>06</td>\n",
       "      <td>5228550.0</td>\n",
       "      <td>2011</td>\n",
       "      <td>0</td>\n",
       "      <td>1</td>\n",
       "      <td>0</td>\n",
       "      <td>0</td>\n",
       "      <td>0</td>\n",
       "      <td>0</td>\n",
       "      <td>0</td>\n",
       "    </tr>\n",
       "    <tr>\n",
       "      <th>2</th>\n",
       "      <td>2</td>\n",
       "      <td>7</td>\n",
       "      <td>BK</td>\n",
       "      <td>302.0</td>\n",
       "      <td>21.0</td>\n",
       "      <td>11201.0</td>\n",
       "      <td>M3-1</td>\n",
       "      <td>T2</td>\n",
       "      <td>07</td>\n",
       "      <td>1800.0</td>\n",
       "      <td>2011</td>\n",
       "      <td>0</td>\n",
       "      <td>1</td>\n",
       "      <td>0</td>\n",
       "      <td>0</td>\n",
       "      <td>0</td>\n",
       "      <td>0</td>\n",
       "      <td>0</td>\n",
       "    </tr>\n",
       "    <tr>\n",
       "      <th>3</th>\n",
       "      <td>3</td>\n",
       "      <td>9</td>\n",
       "      <td>BK</td>\n",
       "      <td>302.0</td>\n",
       "      <td>21.0</td>\n",
       "      <td>11201.0</td>\n",
       "      <td>M3-1</td>\n",
       "      <td>T2</td>\n",
       "      <td>07</td>\n",
       "      <td>11700.0</td>\n",
       "      <td>2011</td>\n",
       "      <td>0</td>\n",
       "      <td>1</td>\n",
       "      <td>0</td>\n",
       "      <td>0</td>\n",
       "      <td>0</td>\n",
       "      <td>0</td>\n",
       "      <td>0</td>\n",
       "    </tr>\n",
       "    <tr>\n",
       "      <th>4</th>\n",
       "      <td>4</td>\n",
       "      <td>11</td>\n",
       "      <td>BK</td>\n",
       "      <td>302.0</td>\n",
       "      <td>21.0</td>\n",
       "      <td>11201.0</td>\n",
       "      <td>M3-1</td>\n",
       "      <td>V1</td>\n",
       "      <td>11</td>\n",
       "      <td>91800.0</td>\n",
       "      <td>2011</td>\n",
       "      <td>0</td>\n",
       "      <td>1</td>\n",
       "      <td>0</td>\n",
       "      <td>0</td>\n",
       "      <td>0</td>\n",
       "      <td>0</td>\n",
       "      <td>0</td>\n",
       "    </tr>\n",
       "  </tbody>\n",
       "</table>\n",
       "</div>"
      ],
      "text/plain": [
       "   Unnamed: 0  Unnamed: 0.1 Borough     CD  CT2010  ZipCode  ZoneDist1  \\\n",
       "0           0             1      BK  302.0    21.0  11201.0  M3-1        \n",
       "1           1             2      BK  302.0    21.0  11201.0  M1-4/R8A    \n",
       "2           2             7      BK  302.0    21.0  11201.0  M3-1        \n",
       "3           3             9      BK  302.0    21.0  11201.0  M3-1        \n",
       "4           4            11      BK  302.0    21.0  11201.0  M3-1        \n",
       "\n",
       "  BldgClass LandUse  AssessTot  year  Commercial_Zone  Manufacturing_Zone  \\\n",
       "0        G6      10  1070550.0  2011                0                   1   \n",
       "1        E9      06  5228550.0  2011                0                   1   \n",
       "2        T2      07     1800.0  2011                0                   1   \n",
       "3        T2      07    11700.0  2011                0                   1   \n",
       "4        V1      11    91800.0  2011                0                   1   \n",
       "\n",
       "   Residential_Zone  Hotel_Building  School_Building  Library_Building  \\\n",
       "0                 0               0                0                 0   \n",
       "1                 0               0                0                 0   \n",
       "2                 0               0                0                 0   \n",
       "3                 0               0                0                 0   \n",
       "4                 0               0                0                 0   \n",
       "\n",
       "   ShoppingCenter_Building  \n",
       "0                        0  \n",
       "1                        0  \n",
       "2                        0  \n",
       "3                        0  \n",
       "4                        0  "
      ]
     },
     "execution_count": 8,
     "metadata": {},
     "output_type": "execute_result"
    }
   ],
   "source": [
    "pz.head()"
   ]
  },
  {
   "cell_type": "code",
   "execution_count": 9,
   "metadata": {
    "collapsed": false
   },
   "outputs": [],
   "source": [
    "pz = pz.dropna(axis = 0)"
   ]
  },
  {
   "cell_type": "code",
   "execution_count": 10,
   "metadata": {
    "collapsed": false
   },
   "outputs": [],
   "source": [
    "pz[['ZipCode']] = pz[['ZipCode']].astype(int)\n"
   ]
  },
  {
   "cell_type": "code",
   "execution_count": 11,
   "metadata": {
    "collapsed": true
   },
   "outputs": [],
   "source": [
    "#changing makeup of variables to string\n",
    "pz[['ZipCode']] = pz[['ZipCode']].astype(str) \n",
    "#changing to string to join\n",
    "pz[['year']] = pz[['year']].astype(str) \n"
   ]
  },
  {
   "cell_type": "code",
   "execution_count": 12,
   "metadata": {
    "collapsed": false
   },
   "outputs": [],
   "source": [
    "#get a sense of the data\n",
    "#pz.head()"
   ]
  },
  {
   "cell_type": "code",
   "execution_count": 13,
   "metadata": {
    "collapsed": true,
    "scrolled": true
   },
   "outputs": [],
   "source": [
    "#seperating zip code and year\n",
    "pz['ZIP_YEAR'] = pz[['ZipCode', 'year']].apply(lambda x: '_'.join(x), axis=1)\n"
   ]
  },
  {
   "cell_type": "code",
   "execution_count": 14,
   "metadata": {
    "collapsed": false
   },
   "outputs": [],
   "source": [
    "#change zip code back to numbers from string \n",
    "pz[['ZipCode']] = pz[['ZipCode']].astype(int)\n",
    "\n",
    "pz[['year']] = pz[['year']].astype(int) \n"
   ]
  },
  {
   "cell_type": "code",
   "execution_count": 15,
   "metadata": {
    "collapsed": true
   },
   "outputs": [],
   "source": [
    "#save to csv\n",
    "pz.to_csv('pz_zip.csv')"
   ]
  },
  {
   "cell_type": "code",
   "execution_count": 16,
   "metadata": {
    "collapsed": true
   },
   "outputs": [],
   "source": [
    "#can start from here, after imports"
   ]
  },
  {
   "cell_type": "code",
   "execution_count": 17,
   "metadata": {
    "collapsed": false
   },
   "outputs": [
    {
     "name": "stderr",
     "output_type": "stream",
     "text": [
      "/Users/mariumsultan/anaconda/lib/python2.7/site-packages/IPython/core/interactiveshell.py:2723: DtypeWarning: Columns (9) have mixed types. Specify dtype option on import or set low_memory=False.\n",
      "  interactivity=interactivity, compiler=compiler, result=result)\n"
     ]
    }
   ],
   "source": [
    "#upload new csv file \n",
    "pz = pd.read_csv('pz_zip.csv')"
   ]
  },
  {
   "cell_type": "code",
   "execution_count": 18,
   "metadata": {
    "collapsed": false
   },
   "outputs": [
    {
     "data": {
      "text/plain": [
       "Index([u'Unnamed: 0', u'Unnamed: 0.1', u'Unnamed: 0.1', u'Borough', u'CD',\n",
       "       u'CT2010', u'ZipCode', u'ZoneDist1', u'BldgClass', u'LandUse',\n",
       "       u'AssessTot', u'year', u'Commercial_Zone', u'Manufacturing_Zone',\n",
       "       u'Residential_Zone', u'Hotel_Building', u'School_Building',\n",
       "       u'Library_Building', u'ShoppingCenter_Building', u'ZIP_YEAR'],\n",
       "      dtype='object')"
      ]
     },
     "execution_count": 18,
     "metadata": {},
     "output_type": "execute_result"
    }
   ],
   "source": [
    "#check column attributes of data\n",
    "pz.columns"
   ]
  },
  {
   "cell_type": "code",
   "execution_count": 19,
   "metadata": {
    "collapsed": true
   },
   "outputs": [],
   "source": [
    "#counting Hotels per zip per year"
   ]
  },
  {
   "cell_type": "code",
   "execution_count": 20,
   "metadata": {
    "collapsed": false
   },
   "outputs": [
    {
     "data": {
      "text/plain": [
       "0    5936953\n",
       "1       6075\n",
       "Name: Hotel_Building, dtype: int64"
      ]
     },
     "execution_count": 20,
     "metadata": {},
     "output_type": "execute_result"
    }
   ],
   "source": [
    "pz.Hotel_Building.value_counts()\n"
   ]
  },
  {
   "cell_type": "code",
   "execution_count": 21,
   "metadata": {
    "collapsed": false
   },
   "outputs": [],
   "source": [
    "only_h = pz[['ZIP_YEAR', 'Hotel_Building']]"
   ]
  },
  {
   "cell_type": "code",
   "execution_count": 22,
   "metadata": {
    "collapsed": false
   },
   "outputs": [
    {
     "data": {
      "text/html": [
       "<div>\n",
       "<table border=\"1\" class=\"dataframe\">\n",
       "  <thead>\n",
       "    <tr style=\"text-align: right;\">\n",
       "      <th></th>\n",
       "      <th>ZIP_YEAR</th>\n",
       "      <th>Hotel_Building</th>\n",
       "    </tr>\n",
       "  </thead>\n",
       "  <tbody>\n",
       "    <tr>\n",
       "      <th>0</th>\n",
       "      <td>11201_2011</td>\n",
       "      <td>0</td>\n",
       "    </tr>\n",
       "    <tr>\n",
       "      <th>1</th>\n",
       "      <td>11201_2011</td>\n",
       "      <td>0</td>\n",
       "    </tr>\n",
       "    <tr>\n",
       "      <th>2</th>\n",
       "      <td>11201_2011</td>\n",
       "      <td>0</td>\n",
       "    </tr>\n",
       "    <tr>\n",
       "      <th>3</th>\n",
       "      <td>11201_2011</td>\n",
       "      <td>0</td>\n",
       "    </tr>\n",
       "    <tr>\n",
       "      <th>4</th>\n",
       "      <td>11201_2011</td>\n",
       "      <td>0</td>\n",
       "    </tr>\n",
       "  </tbody>\n",
       "</table>\n",
       "</div>"
      ],
      "text/plain": [
       "     ZIP_YEAR  Hotel_Building\n",
       "0  11201_2011               0\n",
       "1  11201_2011               0\n",
       "2  11201_2011               0\n",
       "3  11201_2011               0\n",
       "4  11201_2011               0"
      ]
     },
     "execution_count": 22,
     "metadata": {},
     "output_type": "execute_result"
    }
   ],
   "source": [
    "only_h.head()"
   ]
  },
  {
   "cell_type": "code",
   "execution_count": 23,
   "metadata": {
    "collapsed": false
   },
   "outputs": [],
   "source": [
    "only_h = only_h.groupby('ZIP_YEAR').Hotel_Building.count().reset_index()"
   ]
  },
  {
   "cell_type": "code",
   "execution_count": 24,
   "metadata": {
    "collapsed": false
   },
   "outputs": [
    {
     "data": {
      "text/html": [
       "<div>\n",
       "<table border=\"1\" class=\"dataframe\">\n",
       "  <thead>\n",
       "    <tr style=\"text-align: right;\">\n",
       "      <th></th>\n",
       "      <th>ZIP_YEAR</th>\n",
       "      <th>Hotel_Building</th>\n",
       "    </tr>\n",
       "  </thead>\n",
       "  <tbody>\n",
       "    <tr>\n",
       "      <th>0</th>\n",
       "      <td>10001_2011</td>\n",
       "      <td>1065</td>\n",
       "    </tr>\n",
       "    <tr>\n",
       "      <th>1</th>\n",
       "      <td>10001_2012</td>\n",
       "      <td>1053</td>\n",
       "    </tr>\n",
       "    <tr>\n",
       "      <th>2</th>\n",
       "      <td>10001_2013</td>\n",
       "      <td>1023</td>\n",
       "    </tr>\n",
       "    <tr>\n",
       "      <th>3</th>\n",
       "      <td>10001_2014</td>\n",
       "      <td>1006</td>\n",
       "    </tr>\n",
       "    <tr>\n",
       "      <th>4</th>\n",
       "      <td>10001_2015</td>\n",
       "      <td>993</td>\n",
       "    </tr>\n",
       "  </tbody>\n",
       "</table>\n",
       "</div>"
      ],
      "text/plain": [
       "     ZIP_YEAR  Hotel_Building\n",
       "0  10001_2011            1065\n",
       "1  10001_2012            1053\n",
       "2  10001_2013            1023\n",
       "3  10001_2014            1006\n",
       "4  10001_2015             993"
      ]
     },
     "execution_count": 24,
     "metadata": {},
     "output_type": "execute_result"
    }
   ],
   "source": [
    "only_h.head()"
   ]
  },
  {
   "cell_type": "code",
   "execution_count": 25,
   "metadata": {
    "collapsed": true
   },
   "outputs": [],
   "source": [
    "only_h = only_h.rename(columns={'Hotel_Building': 'hotel_count'})"
   ]
  },
  {
   "cell_type": "code",
   "execution_count": 26,
   "metadata": {
    "collapsed": false,
    "scrolled": true
   },
   "outputs": [
    {
     "data": {
      "text/html": [
       "<div>\n",
       "<table border=\"1\" class=\"dataframe\">\n",
       "  <thead>\n",
       "    <tr style=\"text-align: right;\">\n",
       "      <th></th>\n",
       "      <th>ZIP_YEAR</th>\n",
       "      <th>hotel_count</th>\n",
       "    </tr>\n",
       "  </thead>\n",
       "  <tbody>\n",
       "    <tr>\n",
       "      <th>0</th>\n",
       "      <td>10001_2011</td>\n",
       "      <td>1065</td>\n",
       "    </tr>\n",
       "    <tr>\n",
       "      <th>1</th>\n",
       "      <td>10001_2012</td>\n",
       "      <td>1053</td>\n",
       "    </tr>\n",
       "    <tr>\n",
       "      <th>2</th>\n",
       "      <td>10001_2013</td>\n",
       "      <td>1023</td>\n",
       "    </tr>\n",
       "    <tr>\n",
       "      <th>3</th>\n",
       "      <td>10001_2014</td>\n",
       "      <td>1006</td>\n",
       "    </tr>\n",
       "    <tr>\n",
       "      <th>4</th>\n",
       "      <td>10001_2015</td>\n",
       "      <td>993</td>\n",
       "    </tr>\n",
       "  </tbody>\n",
       "</table>\n",
       "</div>"
      ],
      "text/plain": [
       "     ZIP_YEAR  hotel_count\n",
       "0  10001_2011         1065\n",
       "1  10001_2012         1053\n",
       "2  10001_2013         1023\n",
       "3  10001_2014         1006\n",
       "4  10001_2015          993"
      ]
     },
     "execution_count": 26,
     "metadata": {},
     "output_type": "execute_result"
    }
   ],
   "source": [
    "#get a sense of hotels in each zip code\n",
    "only_h.head()"
   ]
  },
  {
   "cell_type": "code",
   "execution_count": 27,
   "metadata": {
    "collapsed": false
   },
   "outputs": [
    {
     "data": {
      "text/plain": [
       "20589"
      ]
     },
     "execution_count": 27,
     "metadata": {},
     "output_type": "execute_result"
    }
   ],
   "source": [
    "#max number of hotels in a zipcode\n",
    "only_h.hotel_count.max()"
   ]
  },
  {
   "cell_type": "code",
   "execution_count": 28,
   "metadata": {
    "collapsed": false
   },
   "outputs": [
    {
     "data": {
      "text/plain": [
       "3350.5"
      ]
     },
     "execution_count": 28,
     "metadata": {},
     "output_type": "execute_result"
    }
   ],
   "source": [
    "#median number hotels in a zipcode\n",
    "only_h.hotel_count.median()"
   ]
  },
  {
   "cell_type": "code",
   "execution_count": 29,
   "metadata": {
    "collapsed": false
   },
   "outputs": [],
   "source": [
    "#creating variable for average hotel \n",
    "mean_hotel = only_h.hotel_count.mean()"
   ]
  },
  {
   "cell_type": "code",
   "execution_count": 30,
   "metadata": {
    "collapsed": false
   },
   "outputs": [
    {
     "data": {
      "text/plain": [
       "4344.318713450292"
      ]
     },
     "execution_count": 30,
     "metadata": {},
     "output_type": "execute_result"
    }
   ],
   "source": [
    "mean_hotel"
   ]
  },
  {
   "cell_type": "code",
   "execution_count": 31,
   "metadata": {
    "collapsed": true
   },
   "outputs": [],
   "source": [
    "def hub_checker(t):\n",
    "    if t > mean_hotel:\n",
    "        return 1\n",
    "    else:\n",
    "        return 0"
   ]
  },
  {
   "cell_type": "code",
   "execution_count": 32,
   "metadata": {
    "collapsed": true
   },
   "outputs": [],
   "source": [
    "#create hotel hub variable \n",
    "only_h['Hotel_Hub'] = only_h['hotel_count'].apply(lambda x: hub_checker(x))\n"
   ]
  },
  {
   "cell_type": "code",
   "execution_count": 33,
   "metadata": {
    "collapsed": false
   },
   "outputs": [
    {
     "data": {
      "text/html": [
       "<div>\n",
       "<table border=\"1\" class=\"dataframe\">\n",
       "  <thead>\n",
       "    <tr style=\"text-align: right;\">\n",
       "      <th></th>\n",
       "      <th>ZIP_YEAR</th>\n",
       "      <th>hotel_count</th>\n",
       "      <th>Hotel_Hub</th>\n",
       "    </tr>\n",
       "  </thead>\n",
       "  <tbody>\n",
       "    <tr>\n",
       "      <th>0</th>\n",
       "      <td>10001_2011</td>\n",
       "      <td>1065</td>\n",
       "      <td>0</td>\n",
       "    </tr>\n",
       "    <tr>\n",
       "      <th>1</th>\n",
       "      <td>10001_2012</td>\n",
       "      <td>1053</td>\n",
       "      <td>0</td>\n",
       "    </tr>\n",
       "    <tr>\n",
       "      <th>2</th>\n",
       "      <td>10001_2013</td>\n",
       "      <td>1023</td>\n",
       "      <td>0</td>\n",
       "    </tr>\n",
       "    <tr>\n",
       "      <th>3</th>\n",
       "      <td>10001_2014</td>\n",
       "      <td>1006</td>\n",
       "      <td>0</td>\n",
       "    </tr>\n",
       "    <tr>\n",
       "      <th>4</th>\n",
       "      <td>10001_2015</td>\n",
       "      <td>993</td>\n",
       "      <td>0</td>\n",
       "    </tr>\n",
       "  </tbody>\n",
       "</table>\n",
       "</div>"
      ],
      "text/plain": [
       "     ZIP_YEAR  hotel_count  Hotel_Hub\n",
       "0  10001_2011         1065          0\n",
       "1  10001_2012         1053          0\n",
       "2  10001_2013         1023          0\n",
       "3  10001_2014         1006          0\n",
       "4  10001_2015          993          0"
      ]
     },
     "execution_count": 33,
     "metadata": {},
     "output_type": "execute_result"
    }
   ],
   "source": [
    "#look up at makeup of data\n",
    "only_h.head()"
   ]
  },
  {
   "cell_type": "code",
   "execution_count": 34,
   "metadata": {
    "collapsed": false
   },
   "outputs": [
    {
     "data": {
      "text/html": [
       "<div>\n",
       "<table border=\"1\" class=\"dataframe\">\n",
       "  <thead>\n",
       "    <tr style=\"text-align: right;\">\n",
       "      <th></th>\n",
       "      <th>Unnamed: 0</th>\n",
       "      <th>Unnamed: 0.1</th>\n",
       "      <th>Unnamed: 0.1</th>\n",
       "      <th>Borough</th>\n",
       "      <th>CD</th>\n",
       "      <th>CT2010</th>\n",
       "      <th>ZipCode</th>\n",
       "      <th>ZoneDist1</th>\n",
       "      <th>BldgClass</th>\n",
       "      <th>LandUse</th>\n",
       "      <th>AssessTot</th>\n",
       "      <th>year</th>\n",
       "      <th>Commercial_Zone</th>\n",
       "      <th>Manufacturing_Zone</th>\n",
       "      <th>Residential_Zone</th>\n",
       "      <th>Hotel_Building</th>\n",
       "      <th>School_Building</th>\n",
       "      <th>Library_Building</th>\n",
       "      <th>ShoppingCenter_Building</th>\n",
       "      <th>ZIP_YEAR</th>\n",
       "    </tr>\n",
       "  </thead>\n",
       "  <tbody>\n",
       "    <tr>\n",
       "      <th>0</th>\n",
       "      <td>0</td>\n",
       "      <td>1</td>\n",
       "      <td>1</td>\n",
       "      <td>BK</td>\n",
       "      <td>302.0</td>\n",
       "      <td>21.0</td>\n",
       "      <td>11201</td>\n",
       "      <td>M3-1</td>\n",
       "      <td>G6</td>\n",
       "      <td>10</td>\n",
       "      <td>1070550.0</td>\n",
       "      <td>2011</td>\n",
       "      <td>0</td>\n",
       "      <td>1</td>\n",
       "      <td>0</td>\n",
       "      <td>0</td>\n",
       "      <td>0</td>\n",
       "      <td>0</td>\n",
       "      <td>0</td>\n",
       "      <td>11201_2011</td>\n",
       "    </tr>\n",
       "    <tr>\n",
       "      <th>1</th>\n",
       "      <td>1</td>\n",
       "      <td>2</td>\n",
       "      <td>2</td>\n",
       "      <td>BK</td>\n",
       "      <td>302.0</td>\n",
       "      <td>21.0</td>\n",
       "      <td>11201</td>\n",
       "      <td>M1-4/R8A</td>\n",
       "      <td>E9</td>\n",
       "      <td>06</td>\n",
       "      <td>5228550.0</td>\n",
       "      <td>2011</td>\n",
       "      <td>0</td>\n",
       "      <td>1</td>\n",
       "      <td>0</td>\n",
       "      <td>0</td>\n",
       "      <td>0</td>\n",
       "      <td>0</td>\n",
       "      <td>0</td>\n",
       "      <td>11201_2011</td>\n",
       "    </tr>\n",
       "    <tr>\n",
       "      <th>2</th>\n",
       "      <td>2</td>\n",
       "      <td>7</td>\n",
       "      <td>7</td>\n",
       "      <td>BK</td>\n",
       "      <td>302.0</td>\n",
       "      <td>21.0</td>\n",
       "      <td>11201</td>\n",
       "      <td>M3-1</td>\n",
       "      <td>T2</td>\n",
       "      <td>07</td>\n",
       "      <td>1800.0</td>\n",
       "      <td>2011</td>\n",
       "      <td>0</td>\n",
       "      <td>1</td>\n",
       "      <td>0</td>\n",
       "      <td>0</td>\n",
       "      <td>0</td>\n",
       "      <td>0</td>\n",
       "      <td>0</td>\n",
       "      <td>11201_2011</td>\n",
       "    </tr>\n",
       "    <tr>\n",
       "      <th>3</th>\n",
       "      <td>3</td>\n",
       "      <td>9</td>\n",
       "      <td>9</td>\n",
       "      <td>BK</td>\n",
       "      <td>302.0</td>\n",
       "      <td>21.0</td>\n",
       "      <td>11201</td>\n",
       "      <td>M3-1</td>\n",
       "      <td>T2</td>\n",
       "      <td>07</td>\n",
       "      <td>11700.0</td>\n",
       "      <td>2011</td>\n",
       "      <td>0</td>\n",
       "      <td>1</td>\n",
       "      <td>0</td>\n",
       "      <td>0</td>\n",
       "      <td>0</td>\n",
       "      <td>0</td>\n",
       "      <td>0</td>\n",
       "      <td>11201_2011</td>\n",
       "    </tr>\n",
       "    <tr>\n",
       "      <th>4</th>\n",
       "      <td>4</td>\n",
       "      <td>11</td>\n",
       "      <td>11</td>\n",
       "      <td>BK</td>\n",
       "      <td>302.0</td>\n",
       "      <td>21.0</td>\n",
       "      <td>11201</td>\n",
       "      <td>M3-1</td>\n",
       "      <td>V1</td>\n",
       "      <td>11</td>\n",
       "      <td>91800.0</td>\n",
       "      <td>2011</td>\n",
       "      <td>0</td>\n",
       "      <td>1</td>\n",
       "      <td>0</td>\n",
       "      <td>0</td>\n",
       "      <td>0</td>\n",
       "      <td>0</td>\n",
       "      <td>0</td>\n",
       "      <td>11201_2011</td>\n",
       "    </tr>\n",
       "  </tbody>\n",
       "</table>\n",
       "</div>"
      ],
      "text/plain": [
       "   Unnamed: 0  Unnamed: 0.1  Unnamed: 0.1 Borough     CD  CT2010  ZipCode  \\\n",
       "0           0             1             1      BK  302.0    21.0    11201   \n",
       "1           1             2             2      BK  302.0    21.0    11201   \n",
       "2           2             7             7      BK  302.0    21.0    11201   \n",
       "3           3             9             9      BK  302.0    21.0    11201   \n",
       "4           4            11            11      BK  302.0    21.0    11201   \n",
       "\n",
       "   ZoneDist1 BldgClass LandUse  AssessTot  year  Commercial_Zone  \\\n",
       "0  M3-1             G6      10  1070550.0  2011                0   \n",
       "1  M1-4/R8A         E9      06  5228550.0  2011                0   \n",
       "2  M3-1             T2      07     1800.0  2011                0   \n",
       "3  M3-1             T2      07    11700.0  2011                0   \n",
       "4  M3-1             V1      11    91800.0  2011                0   \n",
       "\n",
       "   Manufacturing_Zone  Residential_Zone  Hotel_Building  School_Building  \\\n",
       "0                   1                 0               0                0   \n",
       "1                   1                 0               0                0   \n",
       "2                   1                 0               0                0   \n",
       "3                   1                 0               0                0   \n",
       "4                   1                 0               0                0   \n",
       "\n",
       "   Library_Building  ShoppingCenter_Building    ZIP_YEAR  \n",
       "0                 0                        0  11201_2011  \n",
       "1                 0                        0  11201_2011  \n",
       "2                 0                        0  11201_2011  \n",
       "3                 0                        0  11201_2011  \n",
       "4                 0                        0  11201_2011  "
      ]
     },
     "execution_count": 34,
     "metadata": {},
     "output_type": "execute_result"
    }
   ],
   "source": [
    "pz.head()"
   ]
  },
  {
   "cell_type": "code",
   "execution_count": 35,
   "metadata": {
    "collapsed": false
   },
   "outputs": [],
   "source": [
    "#save new dataframe for shopping center and residential, commercial and manufacturing zones\n",
    "only_s = pz[['ShoppingCenter_Building', 'ZIP_YEAR']]\n",
    "only_c = pz[['Commercial_Zone', 'ZIP_YEAR']]\n",
    "only_r = pz[['Residential_Zone', 'ZIP_YEAR']]\n",
    "only_m = pz[['Manufacturing_Zone', 'ZIP_YEAR']]"
   ]
  },
  {
   "cell_type": "code",
   "execution_count": 36,
   "metadata": {
    "collapsed": false
   },
   "outputs": [],
   "source": [
    "only_s.groupby('ZIP_YEAR').ShoppingCenter_Building.count().reset_index()\n",
    "only_s = only_s.rename(columns={'ShoppingCenter_Building': 'shopping_count'})\n",
    "#only_s['shopping_count'] = only_s.ShoppingCenter_Building.value_counts()\n",
    "\n",
    "only_r.groupby('ZIP_YEAR').Residential_Zone.count().reset_index()\n",
    "only_r = only_r.rename(columns={'Residential_Zone': 'residential_zone_count'})\n",
    "#only_r['residential_zone_count'] = only_r.Residential_Zone.value_counts()\n",
    "\n",
    "only_m.groupby('ZIP_YEAR').Manufacturing_Zone.count().reset_index()\n",
    "only_m = only_m.rename(columns={'Manufacturing_Zone': 'manufacturing_zone_count'})\n",
    "\n",
    "#only_m['manufacturing_zone_count'] = only_m.Manufacturing_Zone.value_counts()\n",
    "\n",
    "only_c.groupby('ZIP_YEAR').Commercial_Zone.count().reset_index()\n",
    "only_c = only_c.rename(columns={'Commercial_Zone': 'commercial_zone_count'})\n",
    "\n",
    "#only_c['commercial_zone_count'] = only_c.Commercial_Zone.value_counts()"
   ]
  },
  {
   "cell_type": "code",
   "execution_count": 37,
   "metadata": {
    "collapsed": false
   },
   "outputs": [
    {
     "data": {
      "text/html": [
       "<div>\n",
       "<table border=\"1\" class=\"dataframe\">\n",
       "  <thead>\n",
       "    <tr style=\"text-align: right;\">\n",
       "      <th></th>\n",
       "      <th>residential_zone_count</th>\n",
       "      <th>ZIP_YEAR</th>\n",
       "    </tr>\n",
       "  </thead>\n",
       "  <tbody>\n",
       "    <tr>\n",
       "      <th>0</th>\n",
       "      <td>0</td>\n",
       "      <td>11201_2011</td>\n",
       "    </tr>\n",
       "    <tr>\n",
       "      <th>1</th>\n",
       "      <td>0</td>\n",
       "      <td>11201_2011</td>\n",
       "    </tr>\n",
       "    <tr>\n",
       "      <th>2</th>\n",
       "      <td>0</td>\n",
       "      <td>11201_2011</td>\n",
       "    </tr>\n",
       "    <tr>\n",
       "      <th>3</th>\n",
       "      <td>0</td>\n",
       "      <td>11201_2011</td>\n",
       "    </tr>\n",
       "    <tr>\n",
       "      <th>4</th>\n",
       "      <td>0</td>\n",
       "      <td>11201_2011</td>\n",
       "    </tr>\n",
       "  </tbody>\n",
       "</table>\n",
       "</div>"
      ],
      "text/plain": [
       "   residential_zone_count    ZIP_YEAR\n",
       "0                       0  11201_2011\n",
       "1                       0  11201_2011\n",
       "2                       0  11201_2011\n",
       "3                       0  11201_2011\n",
       "4                       0  11201_2011"
      ]
     },
     "execution_count": 37,
     "metadata": {},
     "output_type": "execute_result"
    }
   ],
   "source": [
    "only_r.head()"
   ]
  },
  {
   "cell_type": "code",
   "execution_count": 38,
   "metadata": {
    "collapsed": false
   },
   "outputs": [],
   "source": [
    "#means \n",
    "mean_shopping = only_s['shopping_count'].mean()\n",
    "mean_residential_zone = only_r['residential_zone_count'].mean()\n",
    "mean_manufacturing_zone = only_m['manufacturing_zone_count'].mean()\n",
    "mean_commercial_zone = only_c['commercial_zone_count'].mean()"
   ]
  },
  {
   "cell_type": "code",
   "execution_count": 39,
   "metadata": {
    "collapsed": true
   },
   "outputs": [],
   "source": [
    "def hub_checker(t):\n",
    "    if t > i:\n",
    "        return 1\n",
    "    else:\n",
    "        return 0"
   ]
  },
  {
   "cell_type": "code",
   "execution_count": 40,
   "metadata": {
    "collapsed": false
   },
   "outputs": [],
   "source": [
    "i = mean_shopping\n",
    "only_s['Shopping_Hub'] = only_s['shopping_count'].apply(lambda x: hub_checker(x))\n"
   ]
  },
  {
   "cell_type": "code",
   "execution_count": 41,
   "metadata": {
    "collapsed": false
   },
   "outputs": [],
   "source": [
    "i = mean_residential_zone\n",
    "only_r['Residential_Hub'] = only_r['residential_zone_count'].apply(lambda x: hub_checker(x))"
   ]
  },
  {
   "cell_type": "code",
   "execution_count": 42,
   "metadata": {
    "collapsed": false
   },
   "outputs": [],
   "source": [
    "i = mean_manufacturing_zone\n",
    "only_m['Manufacturing_Hub'] = only_m['manufacturing_zone_count'].apply(lambda x: hub_checker(x))"
   ]
  },
  {
   "cell_type": "code",
   "execution_count": 43,
   "metadata": {
    "collapsed": false
   },
   "outputs": [],
   "source": [
    "i = mean_commercial_zone\n",
    "only_c['Commercial_Hub'] = only_c['commercial_zone_count'].apply(lambda x: hub_checker(x))"
   ]
  },
  {
   "cell_type": "code",
   "execution_count": 44,
   "metadata": {
    "collapsed": true
   },
   "outputs": [],
   "source": [
    "#merge all\n",
    "pz = pz.merge(only_h, how='left', on='ZIP_YEAR')\n"
   ]
  },
  {
   "cell_type": "code",
   "execution_count": null,
   "metadata": {
    "collapsed": false
   },
   "outputs": [
    {
     "data": {
      "text/html": [
       "<div>\n",
       "<table border=\"1\" class=\"dataframe\">\n",
       "  <thead>\n",
       "    <tr style=\"text-align: right;\">\n",
       "      <th></th>\n",
       "      <th>Unnamed: 0</th>\n",
       "      <th>Unnamed: 0.1</th>\n",
       "      <th>Unnamed: 0.1</th>\n",
       "      <th>Borough</th>\n",
       "      <th>CD</th>\n",
       "      <th>CT2010</th>\n",
       "      <th>ZipCode</th>\n",
       "      <th>ZoneDist1</th>\n",
       "      <th>BldgClass</th>\n",
       "      <th>LandUse</th>\n",
       "      <th>...</th>\n",
       "      <th>Commercial_Zone</th>\n",
       "      <th>Manufacturing_Zone</th>\n",
       "      <th>Residential_Zone</th>\n",
       "      <th>Hotel_Building</th>\n",
       "      <th>School_Building</th>\n",
       "      <th>Library_Building</th>\n",
       "      <th>ShoppingCenter_Building</th>\n",
       "      <th>ZIP_YEAR</th>\n",
       "      <th>hotel_count</th>\n",
       "      <th>Hotel_Hub</th>\n",
       "    </tr>\n",
       "  </thead>\n",
       "  <tbody>\n",
       "    <tr>\n",
       "      <th>0</th>\n",
       "      <td>0</td>\n",
       "      <td>1</td>\n",
       "      <td>1</td>\n",
       "      <td>BK</td>\n",
       "      <td>302.0</td>\n",
       "      <td>21.0</td>\n",
       "      <td>11201</td>\n",
       "      <td>M3-1</td>\n",
       "      <td>G6</td>\n",
       "      <td>10</td>\n",
       "      <td>...</td>\n",
       "      <td>0</td>\n",
       "      <td>1</td>\n",
       "      <td>0</td>\n",
       "      <td>0</td>\n",
       "      <td>0</td>\n",
       "      <td>0</td>\n",
       "      <td>0</td>\n",
       "      <td>11201_2011</td>\n",
       "      <td>3362</td>\n",
       "      <td>0</td>\n",
       "    </tr>\n",
       "    <tr>\n",
       "      <th>1</th>\n",
       "      <td>1</td>\n",
       "      <td>2</td>\n",
       "      <td>2</td>\n",
       "      <td>BK</td>\n",
       "      <td>302.0</td>\n",
       "      <td>21.0</td>\n",
       "      <td>11201</td>\n",
       "      <td>M1-4/R8A</td>\n",
       "      <td>E9</td>\n",
       "      <td>06</td>\n",
       "      <td>...</td>\n",
       "      <td>0</td>\n",
       "      <td>1</td>\n",
       "      <td>0</td>\n",
       "      <td>0</td>\n",
       "      <td>0</td>\n",
       "      <td>0</td>\n",
       "      <td>0</td>\n",
       "      <td>11201_2011</td>\n",
       "      <td>3362</td>\n",
       "      <td>0</td>\n",
       "    </tr>\n",
       "    <tr>\n",
       "      <th>2</th>\n",
       "      <td>2</td>\n",
       "      <td>7</td>\n",
       "      <td>7</td>\n",
       "      <td>BK</td>\n",
       "      <td>302.0</td>\n",
       "      <td>21.0</td>\n",
       "      <td>11201</td>\n",
       "      <td>M3-1</td>\n",
       "      <td>T2</td>\n",
       "      <td>07</td>\n",
       "      <td>...</td>\n",
       "      <td>0</td>\n",
       "      <td>1</td>\n",
       "      <td>0</td>\n",
       "      <td>0</td>\n",
       "      <td>0</td>\n",
       "      <td>0</td>\n",
       "      <td>0</td>\n",
       "      <td>11201_2011</td>\n",
       "      <td>3362</td>\n",
       "      <td>0</td>\n",
       "    </tr>\n",
       "    <tr>\n",
       "      <th>3</th>\n",
       "      <td>3</td>\n",
       "      <td>9</td>\n",
       "      <td>9</td>\n",
       "      <td>BK</td>\n",
       "      <td>302.0</td>\n",
       "      <td>21.0</td>\n",
       "      <td>11201</td>\n",
       "      <td>M3-1</td>\n",
       "      <td>T2</td>\n",
       "      <td>07</td>\n",
       "      <td>...</td>\n",
       "      <td>0</td>\n",
       "      <td>1</td>\n",
       "      <td>0</td>\n",
       "      <td>0</td>\n",
       "      <td>0</td>\n",
       "      <td>0</td>\n",
       "      <td>0</td>\n",
       "      <td>11201_2011</td>\n",
       "      <td>3362</td>\n",
       "      <td>0</td>\n",
       "    </tr>\n",
       "    <tr>\n",
       "      <th>4</th>\n",
       "      <td>4</td>\n",
       "      <td>11</td>\n",
       "      <td>11</td>\n",
       "      <td>BK</td>\n",
       "      <td>302.0</td>\n",
       "      <td>21.0</td>\n",
       "      <td>11201</td>\n",
       "      <td>M3-1</td>\n",
       "      <td>V1</td>\n",
       "      <td>11</td>\n",
       "      <td>...</td>\n",
       "      <td>0</td>\n",
       "      <td>1</td>\n",
       "      <td>0</td>\n",
       "      <td>0</td>\n",
       "      <td>0</td>\n",
       "      <td>0</td>\n",
       "      <td>0</td>\n",
       "      <td>11201_2011</td>\n",
       "      <td>3362</td>\n",
       "      <td>0</td>\n",
       "    </tr>\n",
       "  </tbody>\n",
       "</table>\n",
       "<p>5 rows × 22 columns</p>\n",
       "</div>"
      ],
      "text/plain": [
       "   Unnamed: 0  Unnamed: 0.1  Unnamed: 0.1 Borough     CD  CT2010  ZipCode  \\\n",
       "0           0             1             1      BK  302.0    21.0    11201   \n",
       "1           1             2             2      BK  302.0    21.0    11201   \n",
       "2           2             7             7      BK  302.0    21.0    11201   \n",
       "3           3             9             9      BK  302.0    21.0    11201   \n",
       "4           4            11            11      BK  302.0    21.0    11201   \n",
       "\n",
       "   ZoneDist1 BldgClass LandUse    ...     Commercial_Zone  Manufacturing_Zone  \\\n",
       "0  M3-1             G6      10    ...                   0                   1   \n",
       "1  M1-4/R8A         E9      06    ...                   0                   1   \n",
       "2  M3-1             T2      07    ...                   0                   1   \n",
       "3  M3-1             T2      07    ...                   0                   1   \n",
       "4  M3-1             V1      11    ...                   0                   1   \n",
       "\n",
       "   Residential_Zone  Hotel_Building  School_Building  Library_Building  \\\n",
       "0                 0               0                0                 0   \n",
       "1                 0               0                0                 0   \n",
       "2                 0               0                0                 0   \n",
       "3                 0               0                0                 0   \n",
       "4                 0               0                0                 0   \n",
       "\n",
       "   ShoppingCenter_Building    ZIP_YEAR  hotel_count Hotel_Hub  \n",
       "0                        0  11201_2011         3362         0  \n",
       "1                        0  11201_2011         3362         0  \n",
       "2                        0  11201_2011         3362         0  \n",
       "3                        0  11201_2011         3362         0  \n",
       "4                        0  11201_2011         3362         0  \n",
       "\n",
       "[5 rows x 22 columns]"
      ]
     },
     "execution_count": 45,
     "metadata": {},
     "output_type": "execute_result"
    }
   ],
   "source": [
    "#get an idea of data makeup\n",
    "pz.head()"
   ]
  },
  {
   "cell_type": "code",
   "execution_count": null,
   "metadata": {
    "collapsed": true
   },
   "outputs": [],
   "source": [
    "pz = pz.merge(only_s, on='ZIP_YEAR', how='left')\n"
   ]
  },
  {
   "cell_type": "code",
   "execution_count": null,
   "metadata": {
    "collapsed": true
   },
   "outputs": [],
   "source": [
    "pz = pz.merge(only_m, on='ZIP_YEAR', how='left')\n"
   ]
  },
  {
   "cell_type": "code",
   "execution_count": null,
   "metadata": {
    "collapsed": true
   },
   "outputs": [],
   "source": [
    "pz = pz.merge(only_c, on='ZIP_YEAR', how='left')\n"
   ]
  },
  {
   "cell_type": "code",
   "execution_count": null,
   "metadata": {
    "collapsed": true
   },
   "outputs": [],
   "source": [
    "pz = pz.merge(only_r, on='ZIP_YEAR', how='left')"
   ]
  },
  {
   "cell_type": "code",
   "execution_count": null,
   "metadata": {
    "collapsed": false
   },
   "outputs": [],
   "source": [
    "#get an idea of data makeup\n",
    "pz.head()"
   ]
  },
  {
   "cell_type": "code",
   "execution_count": null,
   "metadata": {
    "collapsed": true
   },
   "outputs": [],
   "source": [
    "pzzip = pz.ZipCode.unique()\n",
    "pzzip.shape"
   ]
  },
  {
   "cell_type": "code",
   "execution_count": null,
   "metadata": {
    "collapsed": true
   },
   "outputs": [],
   "source": [
    "#identify the useless columns that need to be deleted\n",
    "useless_columns2 = ['Unnamed: 0', 'Unnamed: 0.1', 'Unnamed: 0.1.1']"
   ]
  },
  {
   "cell_type": "code",
   "execution_count": null,
   "metadata": {
    "collapsed": true
   },
   "outputs": [],
   "source": [
    "#drop useless columns \n",
    "pz = pz.drop(columns = useless_columns2)"
   ]
  },
  {
   "cell_type": "code",
   "execution_count": null,
   "metadata": {
    "collapsed": true
   },
   "outputs": [],
   "source": [
    "#get an idea of the data\n",
    "pz.head()"
   ]
  },
  {
   "cell_type": "code",
   "execution_count": null,
   "metadata": {
    "collapsed": true
   },
   "outputs": [],
   "source": [
    "#pz.to_csv('Project Data/hubed_zip.csv')"
   ]
  },
  {
   "cell_type": "code",
   "execution_count": null,
   "metadata": {
    "collapsed": true
   },
   "outputs": [],
   "source": [
    "#get an idea of semi-useless columns to our data analysis\n",
    "semi_useless_columns =  ['School_Building', 'Library_Building', 'CT2010', 'CD']"
   ]
  },
  {
   "cell_type": "code",
   "execution_count": null,
   "metadata": {
    "collapsed": true
   },
   "outputs": [],
   "source": [
    "#drop other useless columns\n",
    "pz = pz.drop(columns = semi_useless_columns)"
   ]
  },
  {
   "cell_type": "code",
   "execution_count": null,
   "metadata": {
    "collapsed": true
   },
   "outputs": [],
   "source": [
    "pzzip = pz.ZipCode.unique()"
   ]
  },
  {
   "cell_type": "code",
   "execution_count": null,
   "metadata": {
    "collapsed": true
   },
   "outputs": [],
   "source": [
    "pzzip.shape"
   ]
  },
  {
   "cell_type": "code",
   "execution_count": null,
   "metadata": {
    "collapsed": true
   },
   "outputs": [],
   "source": [
    "#save to new csv\n",
    "pz.to_csv('hubed_cleaner_zip.csv')"
   ]
  },
  {
   "cell_type": "code",
   "execution_count": null,
   "metadata": {
    "collapsed": true
   },
   "outputs": [],
   "source": []
  }
 ],
 "metadata": {
  "kernelspec": {
   "display_name": "Python [Root]",
   "language": "python",
   "name": "Python [Root]"
  },
  "language_info": {
   "codemirror_mode": {
    "name": "ipython",
    "version": 2
   },
   "file_extension": ".py",
   "mimetype": "text/x-python",
   "name": "python",
   "nbconvert_exporter": "python",
   "pygments_lexer": "ipython2",
   "version": "2.7.12"
  }
 },
 "nbformat": 4,
 "nbformat_minor": 2
}
